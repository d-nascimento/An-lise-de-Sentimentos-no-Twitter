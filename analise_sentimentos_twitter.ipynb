{
  "nbformat": 4,
  "nbformat_minor": 0,
  "metadata": {
    "colab": {
      "name": "analise_sentimentos_twitter.ipynb",
      "provenance": [],
      "collapsed_sections": [],
      "authorship_tag": "ABX9TyP/mnhx6aLbT3yq5/d7/E5/",
      "include_colab_link": true
    },
    "kernelspec": {
      "name": "python3",
      "display_name": "Python 3"
    }
  },
  "cells": [
    {
      "cell_type": "markdown",
      "metadata": {
        "id": "view-in-github",
        "colab_type": "text"
      },
      "source": [
        "<a href=\"https://colab.research.google.com/github/d-nascimento/analise-de-sentimentos-no-twitter/blob/master/analise_sentimentos_twitter.ipynb\" target=\"_parent\"><img src=\"https://colab.research.google.com/assets/colab-badge.svg\" alt=\"Open In Colab\"/></a>"
      ]
    },
    {
      "cell_type": "code",
      "metadata": {
        "id": "PGrzEZ_qVotv",
        "colab_type": "code",
        "colab": {}
      },
      "source": [
        "!pip install tweepy textblob matplotlib wordcloud googletrans unidecode"
      ],
      "execution_count": null,
      "outputs": []
    },
    {
      "cell_type": "code",
      "metadata": {
        "id": "-RQ8daV-VsnK",
        "colab_type": "code",
        "colab": {}
      },
      "source": [
        "import tweepy\n",
        "from textblob import TextBlob\n",
        "from wordcloud import WordCloud\n",
        "import pandas as pd\n",
        "import numpy as np\n",
        "import re\n",
        "import matplotlib.pyplot as plt\n",
        "plt.style.use('fivethirtyeight')\n",
        "from googletrans import Translator\n",
        "from unidecode import unidecode\n",
        "import seaborn as sns"
      ],
      "execution_count": null,
      "outputs": []
    },
    {
      "cell_type": "code",
      "metadata": {
        "id": "O46dzZYuWupA",
        "colab_type": "code",
        "colab": {}
      },
      "source": [
        "##login"
      ],
      "execution_count": null,
      "outputs": []
    },
    {
      "cell_type": "code",
      "metadata": {
        "id": "ZzSZAFmpVxiw",
        "colab_type": "code",
        "colab": {}
      },
      "source": [
        "#chaves de autenticação (strings)\n",
        "consumerKey = 'GggfGYt8ztMPbDutNrN3tMwpo'\n",
        "consumerSecret = 'gDO5Xp31KNlbLuzaz74PTH3e728pkm4eEvLnHVDMpRDS4YIw0J'\n",
        "accessToken = '794678663346356224-98Nu9T3HIXZLnvhUXR3rQnOasDbrfJX'\n",
        "accessTokenSecret = '9q7ngqeWEVai9ohyfrBfGRk45ci60jmdiqdDUzfYtSzZj'"
      ],
      "execution_count": 33,
      "outputs": []
    },
    {
      "cell_type": "code",
      "metadata": {
        "id": "-iOYM64iZUez",
        "colab_type": "code",
        "colab": {}
      },
      "source": [
        "#Criando nossa autenticação\n",
        "auth = tweepy.OAuthHandler(consumerKey,consumerSecret)\n",
        "#\"Direcionando\" o token de acesso\n",
        "auth.set_access_token(accessToken, accessTokenSecret) \n",
        "#criando o objeto da API usando nossas credenciais\n",
        "api = tweepy.API(auth, wait_on_rate_limit = True)"
      ],
      "execution_count": 34,
      "outputs": []
    },
    {
      "cell_type": "code",
      "metadata": {
        "id": "z3FSha3SfoYB",
        "colab_type": "code",
        "colab": {}
      },
      "source": [
        "#usuário a ser analisado"
      ],
      "execution_count": 35,
      "outputs": []
    },
    {
      "cell_type": "code",
      "metadata": {
        "id": "fyVaNDkpfY59",
        "colab_type": "code",
        "colab": {}
      },
      "source": [
        "name_id = '@realDonaldTrump'\n",
        "language = 'en'"
      ],
      "execution_count": 36,
      "outputs": []
    },
    {
      "cell_type": "code",
      "metadata": {
        "id": "JSMJ--6afi8o",
        "colab_type": "code",
        "colab": {}
      },
      "source": [
        "# Fazendo um scrapping dos ultimos 100 tweets\n",
        "posts = api.user_timeline(screen_name=name_id,\n",
        "                          count = 100,\n",
        "                          lang =language,\n",
        "                          tweet_mode=\"extended\")"
      ],
      "execution_count": 39,
      "outputs": []
    },
    {
      "cell_type": "code",
      "metadata": {
        "id": "Tb-BNlVsgH9d",
        "colab_type": "code",
        "colab": {
          "base_uri": "https://localhost:8080/",
          "height": 204
        },
        "outputId": "d2cbb866-084a-4bbd-af83-4349560549ed"
      },
      "source": [
        "#Criando uma lista (usando list comprehension) para inserirmos num DataFrame\n",
        "df_tweets=pd.DataFrame([tweet.full_text for tweet in posts], columns=['Tweets'])\n",
        "df_tweets.head()"
      ],
      "execution_count": 40,
      "outputs": [
        {
          "output_type": "execute_result",
          "data": {
            "text/html": [
              "<div>\n",
              "<style scoped>\n",
              "    .dataframe tbody tr th:only-of-type {\n",
              "        vertical-align: middle;\n",
              "    }\n",
              "\n",
              "    .dataframe tbody tr th {\n",
              "        vertical-align: top;\n",
              "    }\n",
              "\n",
              "    .dataframe thead th {\n",
              "        text-align: right;\n",
              "    }\n",
              "</style>\n",
              "<table border=\"1\" class=\"dataframe\">\n",
              "  <thead>\n",
              "    <tr style=\"text-align: right;\">\n",
              "      <th></th>\n",
              "      <th>Tweets</th>\n",
              "    </tr>\n",
              "  </thead>\n",
              "  <tbody>\n",
              "    <tr>\n",
              "      <th>0</th>\n",
              "      <td>Thank you. Will never let you down! https://t....</td>\n",
              "    </tr>\n",
              "    <tr>\n",
              "      <th>1</th>\n",
              "      <td>RT @AndrewCMcCarthy: In my Friday evening @NRO...</td>\n",
              "    </tr>\n",
              "    <tr>\n",
              "      <th>2</th>\n",
              "      <td>RT @MZHemingway: NPR, which was a co-conspirat...</td>\n",
              "    </tr>\n",
              "    <tr>\n",
              "      <th>3</th>\n",
              "      <td>RT @rkylesmith: The Russia-Obsessed Media Does...</td>\n",
              "    </tr>\n",
              "    <tr>\n",
              "      <th>4</th>\n",
              "      <td>RT @DavidBahnsen: PREVIEW TODAY'S #COVID19 &amp;am...</td>\n",
              "    </tr>\n",
              "  </tbody>\n",
              "</table>\n",
              "</div>"
            ],
            "text/plain": [
              "                                              Tweets\n",
              "0  Thank you. Will never let you down! https://t....\n",
              "1  RT @AndrewCMcCarthy: In my Friday evening @NRO...\n",
              "2  RT @MZHemingway: NPR, which was a co-conspirat...\n",
              "3  RT @rkylesmith: The Russia-Obsessed Media Does...\n",
              "4  RT @DavidBahnsen: PREVIEW TODAY'S #COVID19 &am..."
            ]
          },
          "metadata": {
            "tags": []
          },
          "execution_count": 40
        }
      ]
    },
    {
      "cell_type": "code",
      "metadata": {
        "id": "fTVNQXz4gu2t",
        "colab_type": "code",
        "colab": {}
      },
      "source": [
        "def limpando_chars(text):\n",
        "    text = re.sub('@[A-Za-z0–9]+', '', text) #removendo @\n",
        "    text = re.sub('#', '', text) #removendo #\n",
        "    text = re.sub('RT[\\s]+', '', text) # Removendo RT\n",
        "    text = re.sub('https?:\\/\\/\\S+', '', text) # Removendo hyperlink\n",
        "    text = re.sub('&amp','', text)# removendo marcação HTML de início\n",
        "    return text"
      ],
      "execution_count": 41,
      "outputs": []
    },
    {
      "cell_type": "code",
      "metadata": {
        "id": "xF6FhxKUg9vU",
        "colab_type": "code",
        "colab": {}
      },
      "source": [
        "#limpando os tweets com a função criada\n",
        "df_tweets['Tweets'] = df_tweets['Tweets'].apply(limpando_chars)"
      ],
      "execution_count": 42,
      "outputs": []
    },
    {
      "cell_type": "code",
      "metadata": {
        "id": "vo7QouJbheXX",
        "colab_type": "code",
        "colab": {
          "base_uri": "https://localhost:8080/",
          "height": 204
        },
        "outputId": "404816bd-a40d-420f-a45d-c147ad56076a"
      },
      "source": [
        "# Função que analisa e obtém a subjetividade\n",
        "def capture_subjetividade_pt(text):\n",
        "    return TextBlob(text).sentiment.subjectivity\n",
        "# Função que analisa e obtém a polaridade\n",
        "def capture_polaridade_pt(text):\n",
        "    return  TextBlob(text).sentiment.polarity\n",
        "def translate_text(text):\n",
        "        return Translator().translate(unidecode(text)).text\n",
        "#Traduzindo\n",
        "if language!= 'en':\n",
        "    df_tweets['Tweets'] = df_tweets['Tweets'].apply(translate_text)\n",
        "else:\n",
        "    pass\n",
        "# Criar duas colunas de subjetividade e polaridade\n",
        "\n",
        "df_tweets['Subjetividade'] = df_tweets['Tweets'].apply(capture_polaridade_pt)\n",
        "df_tweets['Polaridade'] = df_tweets['Tweets'].apply(capture_subjetividade_pt)\n",
        "\n",
        "# Mostra um novo dataframe com as colunas subjetividade e polaridade\n",
        "df_tweets.tail()"
      ],
      "execution_count": 43,
      "outputs": [
        {
          "output_type": "execute_result",
          "data": {
            "text/html": [
              "<div>\n",
              "<style scoped>\n",
              "    .dataframe tbody tr th:only-of-type {\n",
              "        vertical-align: middle;\n",
              "    }\n",
              "\n",
              "    .dataframe tbody tr th {\n",
              "        vertical-align: top;\n",
              "    }\n",
              "\n",
              "    .dataframe thead th {\n",
              "        text-align: right;\n",
              "    }\n",
              "</style>\n",
              "<table border=\"1\" class=\"dataframe\">\n",
              "  <thead>\n",
              "    <tr style=\"text-align: right;\">\n",
              "      <th></th>\n",
              "      <th>Tweets</th>\n",
              "      <th>Subjetividade</th>\n",
              "      <th>Polaridade</th>\n",
              "    </tr>\n",
              "  </thead>\n",
              "  <tbody>\n",
              "    <tr>\n",
              "      <th>94</th>\n",
              "      <td>2020: 13   I just hope your registered as a Re...</td>\n",
              "      <td>-0.155556</td>\n",
              "      <td>0.288889</td>\n",
              "    </tr>\n",
              "    <tr>\n",
              "      <th>95</th>\n",
              "      <td>: Leave Democrat cities. Let them rot. The med...</td>\n",
              "      <td>-0.100000</td>\n",
              "      <td>0.200000</td>\n",
              "    </tr>\n",
              "    <tr>\n",
              "      <th>96</th>\n",
              "      <td>: Join President  as he watches Pastor Sam Rod...</td>\n",
              "      <td>0.136364</td>\n",
              "      <td>0.454545</td>\n",
              "    </tr>\n",
              "    <tr>\n",
              "      <th>97</th>\n",
              "      <td>: From President  on the passing of his brothe...</td>\n",
              "      <td>1.000000</td>\n",
              "      <td>0.300000</td>\n",
              "    </tr>\n",
              "    <tr>\n",
              "      <th>98</th>\n",
              "      <td>: LIVE: President  holds a news conference</td>\n",
              "      <td>0.136364</td>\n",
              "      <td>0.500000</td>\n",
              "    </tr>\n",
              "  </tbody>\n",
              "</table>\n",
              "</div>"
            ],
            "text/plain": [
              "                                               Tweets  ...  Polaridade\n",
              "94  2020: 13   I just hope your registered as a Re...  ...    0.288889\n",
              "95  : Leave Democrat cities. Let them rot. The med...  ...    0.200000\n",
              "96  : Join President  as he watches Pastor Sam Rod...  ...    0.454545\n",
              "97  : From President  on the passing of his brothe...  ...    0.300000\n",
              "98        : LIVE: President  holds a news conference   ...    0.500000\n",
              "\n",
              "[5 rows x 3 columns]"
            ]
          },
          "metadata": {
            "tags": []
          },
          "execution_count": 43
        }
      ]
    },
    {
      "cell_type": "code",
      "metadata": {
        "id": "ef1OIxBCiEJp",
        "colab_type": "code",
        "colab": {}
      },
      "source": [
        "#-1 negativo\n",
        "#0 neutro\n",
        "#1 positivo\n",
        "def gerar_analise(score):\n",
        "    if score < 0:\n",
        "        return 'Negativo'\n",
        "    elif score == 0:\n",
        "        return 'Neutro'\n",
        "    else:\n",
        "        return 'Positivo'\n",
        "df_tweets['Analise'] = df_tweets['Polaridade'].apply(gerar_analise)"
      ],
      "execution_count": 44,
      "outputs": []
    },
    {
      "cell_type": "code",
      "metadata": {
        "id": "3qQJKKP3iLjn",
        "colab_type": "code",
        "colab": {
          "base_uri": "https://localhost:8080/",
          "height": 1000
        },
        "outputId": "36def888-8539-411a-b5ae-26b31814ab40"
      },
      "source": [
        "# Printando apenas os tweets positivos \n",
        "print('Printing positive tweets:\\n')\n",
        "j=1\n",
        "sortedDF = df_tweets.sort_values(by=['Polaridade']) #ordenando os tweets\n",
        "for i in range(0, sortedDF.shape[0] ):\n",
        "    if( sortedDF['Analise'][i] == 'Positivo'):\n",
        "        print(str(j) + ') '+ sortedDF['Tweets'][i])\n",
        "        print()\n",
        "        j= j+1"
      ],
      "execution_count": 45,
      "outputs": [
        {
          "output_type": "stream",
          "text": [
            "Printing positive tweets:\n",
            "\n",
            "1) Thank you. Will never let you down! \n",
            "\n",
            "2) : In my Friday evening  Corner column on Clinesmith’s Russiagate guilty plea, some memories of the Schiff Memo and t…\n",
            "\n",
            "3) : NPR, which was a co-conspirator in the Russia collusion hoax, redefines Clinesmith pleading guilty to falsifying evidence…\n",
            "\n",
            "4) : The Russia-Obsessed Media Does Its Best to Ignore Clinesmith’s Guilty Plea \n",
            "\n",
            "5) : AND THAT’S THE WAY IT IS...\n",
            "Thousands of Seattle Democrats gather to demand mail-in voting because it’s too dangerous to…\n",
            "\n",
            "6) : Michael Moore, just now on MSNBC, said he was “shocked” that Biden didn’t “swing to the right” and pick Susan Rice, and inst…\n",
            "\n",
            "7) : Democrats should be deeply embarrassed that their leadership has embraced conspiratorial claims about the USPS. \n",
            "\n",
            "8) : Coumo \"Our way worked in New York\" Seriously?!?! I don't want any part of that way... \n",
            "\n",
            "9) : Hey  did Donald Trump make you keep  schools open as long as you did? Did Trump make you keep the subways open w…\n",
            "\n",
            "10) : Where did this guy go?\n",
            "\n",
            "‘He Has Delivered for New York': Cuomo Praises Trump's Coronavirus Response \n",
            "\n",
            "11) : Andrew Cuomo's ego trip continues: He gave a 5 minute speech and didn’t mention Joe Biden until last 20 seconds or so.\n",
            "\n",
            "12) : Insane\n",
            "\n",
            "Biden praises Cuomo's \"leadership,\" as his state is first in the nation in coronavirus deaths and second in dea…\n",
            "\n",
            "13) : Yes, the DNC just featured a registered foreign lobbyist for Russia as one of its speakers\n",
            "\n",
            " htt…\n",
            "\n",
            "14) : Oh my gosh Cuomo doing a victory lap after the most outrageous mishandling of COVID in the country is just so gross.…\n",
            "\n",
            "15) : Cuomo mismanaged New York's coronavirus response. \n",
            "\n",
            "Tens of thousands in nursing homes unnecessarily died, and his arroga…\n",
            "\n",
            "16) Now AP estimates that the real Cuomo number of people killed because of his total incompetence is 11,000, not the 6000 that was originally thought!\n",
            "\n",
            "17) : NY Governor Andrew Cuomo on President Trump's response to the coronavirus:\n",
            "\n",
            "He “has been responsive to New York and respo…\n",
            "\n",
            "18) : Does the DemConvention know  forced nursing homes across NY to take in COVID positive patients and planted…\n",
            "\n",
            "19) Cuomo, just like his brother Fredo, has not got a very good memory! \n",
            "\n",
            "20) : ( is responsible for thousands and thousands of nursing home deaths. An estimated one million people have m…\n",
            "\n",
            "21) : Democrats and the media are covering up Andrew Cuomo’s coronavirus failures. \n",
            "\n",
            "His mismanagement was deadly, especially f…\n",
            "\n",
            "22) : In Case You Missed It  \n",
            "\n",
            "President  has:\n",
            "\n",
            "▶️ Appointed and the Senate has confirmed over 20…\n",
            "\n",
            "23) : ▶️ Negotiated peace agreement between UAE and Israel.\n",
            "\n",
            "▶️ Stood up to China.\n",
            "\n",
            "▶️ Stopped caravans from Central America…\n",
            "\n",
            "24) : I’m sure I’ve left out many other things….but not a bad first term. \n",
            "\n",
            "Unlike John Kasich I believe we are on the right…\n",
            "\n",
            "25) : My view of what life was like after the Obama presidency is much different than that of ...\n",
            "\n",
            "26) : I remember a slow-growth economy, a weakened military, ISIS raging, Iran emboldened, China eating our lunch, businesse…\n",
            "\n",
            "27) A proposal by Pentagon officials to slash Military Healthcare by $2.2 billion dollars has been firmly and totally rejected by me. We will do nothing to hurt our great Military professionals ; heroes as long as I am your President. Thank you!\n",
            "\n",
            "28) She was fired because she was boring and never had what it took. Perhaps that has proven to be a mistake! \n",
            "\n",
            "29) Why would  put on phony Congresswoman . A total waste of airtime!\n",
            "\n",
            "30) NEW RECORD FOR NASDAQ!\n",
            "\n",
            "31) Why is Congress scheduled to meet (on Post Office) next Monday, during the Republican Convention, rather than now, while the Dems are having their Convention. They are always playing games. GET TOUGH REPUBLICANS!!!\n",
            "\n",
            "32) Great division between the Bernie Sanders crowd and the other Radical Lefties. Our Country would be destroyed!\n",
            "\n",
            "33) Just approved (and fast) the FULL Emergency Declaration for the Great State of Iowa. They got hit hard by record setting winds. Thank you to , , and Governor Kim Reynolds.\n",
            "\n",
            "34) What’s with  POLLS increasing me by 10 points in a short period of time. Maybe they want to take over from !\n",
            "\n",
            "35) Getting ready to land in Minneapolis. Our great National Guard saved the city from further destruction. Should have been called up sooner by local government!\n",
            "\n",
            "36) The U.S. Post Office (System) has been failing for many decades. We simply want to MAKE THE POST OFFICE GREAT AGAIN, while at the same time saving billions of dollars a year for American Taxpayers. Dems don’t have a clue! 11\n",
            "\n",
            "37) Some states use “drop boxes” for the collection of Universal Mail-In Ballots. So who is going to “collect” the Ballots, and what might be done to them prior to tabulation? A Rigged Election? So bad for our Country. Only Absentee Ballots acceptable!\n",
            "\n",
            "38) Will be interviewed on  this morning at 8:00 A.M. Enjoy!\n",
            "\n",
            "39) : . Boat Parade today in Clearwater, Florida!!!!!\n",
            "\n",
            "🇺🇸🇺🇸🇺🇸 \n",
            "\n",
            "40) : Kamala Harris reportedly owes $1M in bills from failed presidential run  \n",
            "\n",
            "41) : Vote for TRUMP on November 3rd. I am going to bring our beloved New York back!\n",
            "\n",
            "42) : Durham probe: Ex-FBI lawyer to plead guilty in first criminal case arising from review, sources say | Fox News \n",
            "\n",
            "43) : This says it all. Our Mayor can play arts and crafts in front of Trump Tower but he can’t shine the Tribute Light Memorial a…\n",
            "\n",
            "44) : Thank you James. Sadly, you are 100% correct!!!\n",
            "\n",
            "45) : TRUMP: “If stupid people aren’t elected next year, we’re going to have one of the greatest years that we’ve ever had.” ht…\n",
            "\n",
            "46) : President  continues to enjoy a record enthusiasm advantage over Biden, and Republicans are now outpacin…\n",
            "\n",
            "47) : Senior Advisor : Israel-UAE deal is “the culmination of three and a half years of incredible diplomacy by Presi…\n",
            "\n",
            "48) : Senior Advisor : President  opposes universal mail-in-voting because he wants a fair election h…\n",
            "\n",
            "49) : President  has mobilized his Administration to address barriers to women's full economic empowerment around…\n",
            "\n",
            "50) : This breakthrough was made possible by President ’s leadership—and it provides a foundation for further adv…\n",
            "\n",
            "51) 7: Today’s PGA Tour Winner, 42- year old Jim Herman credits President Donald Trump for 'little bit of good luck' at this…\n",
            "\n",
            "52) Great going Jim. Proud of you! \n",
            "\n",
            "53) 1: The liberal media ; Dems don’t want the election called the night of the election. They want a few extra days to massage the nu…\n",
            "\n",
            "54) 14: Epic!\n",
            "\n",
            "The Patriots of Hawaii are Standing Up ; Raising their Voices in this Blue State! \n",
            "\n",
            "The Silent Majority isn’t Silen…\n",
            "\n",
            "55) : Antifa attends Sturgis.\n",
            "\n",
            "I couldn't tell for sure but it looked like maybe a half-dozen Antifa?\n",
            "\n",
            "The ratio of Trump supporter…\n",
            "\n",
            "56) : More lies about \"Vote by mail\".\n",
            "\n",
            "This is nothing but a Democrat attempt to cheat and STEAL this election.\n",
            "\n",
            "Nothing they say a…\n",
            "\n",
            "57) 1: Hey California,\n",
            "\n",
            "Are you ready to vote for Trump in November?\n",
            "\n",
            "58) _Pundit: Told you guys she was not only unpopular, but very unpopular historically.\n",
            "\n",
            "Okay. Going back to enjoying the last day I…\n",
            "\n",
            "59) : What if people talked like ?\n",
            "\n",
            "Awkward... \n",
            "\n",
            "60) : Robert Trump was an incredible man - strong, kind and loyal to the core. Anyone who encountered him felt his warmth immediat…\n",
            "\n",
            "61) “If carefully done, according to the guidelines, there is no reason why you shouldn’t be able to do that (vote at polling place).” Doctor Anthony Fauci\n",
            "\n",
            "62) : TrumpPatriots we have 78 days to UNITE;SUPPOour AWESOME PRESIDENT  to elect him for 4MoreYears We need K…\n",
            "\n",
            "63) : Uncle Robert, we love you. You are in our hearts and prayers, always.\n",
            "\n",
            "64) . is not watchable during weekend afternoons. It is worse than Fake News . I strongly suggest turning your dial to . They do a really “Fair ; Balanced” job!\n",
            "\n",
            "65) 2013: SO PROUD OF MY HOMELAND!!! HAWAIILIFE 🇺🇸🍍🇺🇸🍍\n",
            "\n",
            "66) _B: Why don’t you like Trump??\n",
            "\n",
            "I’ll Wait......🤣🤣🤣 \n",
            "\n",
            "Love 👇 guy!!\n",
            "\n",
            "\n",
            "\n",
            "67) : His own words on video... JimCrowJoe  \n",
            "\n",
            "68) : Our sincere condolences to the Trump Family and the First Lady on the sensitive passing of Robert Trump. now you are a s…\n",
            "\n",
            "69) _B: Good Morning America 🇺🇸\n",
            "\n",
            "\n",
            "\n",
            "70) 1Trump2020: Nice 👍 to see a Black Woman back the Trumpster..\n",
            "\n",
            "Yes Honey, you are Welcome in this Tent.. !! Keep it going!!\n",
            "\n",
            "71) : TONIGHT: Join War Room Weekly hosted by  with special guests  and  at 8:00 pm ET!…\n",
            "\n",
            "72) 2013: OH NO JOE... THIS AINT HAPPINESS IN YOUR HOME STATE OF DELAWARE IS IT!!!!!🇺🇸🇺🇸🤣🤣🤣\n",
            "THIS IS AMERICA!!!+\n",
            "\n",
            "73) 37936: This is why we really love ⁦⁩ ❤️ \n",
            "\n",
            "74) 1: 13   I totally agree!  These courageous young men are working so hard and doing so m…\n",
            "\n",
            "75) 2: 13   Welcome aboard the Trump Train🇺🇸\n",
            "\n",
            "76) 13:   I was in the Marine Corps in the 1990s. There are plenty of gay Marine's nobody ever even ca…\n",
            "\n",
            "77) 2020: 13   I just hope your registered as a Republican and are voting up and down the ti…\n",
            "\n",
            "78) : Leave Democrat cities. Let them rot. The media and  have activated this mental illness and it’s going to ge…\n",
            "\n",
            "79) : Join President  as he watches Pastor Sam Rodriguez at New Season church at 8 am ET - \n",
            "\n",
            "80) : From President  on the passing of his brother and best friend, Robert - “We will meet again”: \n",
            "\n",
            "81) : LIVE: President  holds a news conference \n",
            "\n"
          ],
          "name": "stdout"
        }
      ]
    },
    {
      "cell_type": "code",
      "metadata": {
        "id": "7TR98xHGiZFt",
        "colab_type": "code",
        "colab": {
          "base_uri": "https://localhost:8080/",
          "height": 51
        },
        "outputId": "5662ad10-8cdc-4be4-c96d-a0906b43eaba"
      },
      "source": [
        "# Printando apenas os tweets negativos \n",
        "print('Printing negative tweets:\\n')\n",
        "j=1\n",
        "sortedDF = df_tweets.sort_values(by=['Polaridade'],ascending=False) #ordenando os tweets\n",
        "for i in range(0, sortedDF.shape[0] ):\n",
        "    if( sortedDF['Analise'][i] == 'Negativo'):\n",
        "        print(str(j) + ') '+sortedDF['Tweets'][i])\n",
        "        print()\n",
        "        j=j+1"
      ],
      "execution_count": 46,
      "outputs": [
        {
          "output_type": "stream",
          "text": [
            "Printing negative tweets:\n",
            "\n"
          ],
          "name": "stdout"
        }
      ]
    },
    {
      "cell_type": "code",
      "metadata": {
        "id": "Qp4Lcmaqif6r",
        "colab_type": "code",
        "colab": {
          "base_uri": "https://localhost:8080/",
          "height": 441
        },
        "outputId": "44b0b940-85e9-498d-f976-23adc5fec41c"
      },
      "source": [
        "# Plotting \n",
        "plt.figure(figsize=(8,6)) \n",
        "for i in range(0, df_tweets.shape[0]):\n",
        "    plt.scatter(df_tweets[\"Polaridade\"][i], df_tweets[\"Subjetividade\"][i], color='darkblue') \n",
        "plt.title('Análise de sentimento') \n",
        "plt.xlabel('Polaridade') \n",
        "plt.ylabel('Subjetividade') \n",
        "plt.show()"
      ],
      "execution_count": 47,
      "outputs": [
        {
          "output_type": "display_data",
          "data": {
            "image/png": "[encoded data removed]",
            "text/plain": [
              "<Figure size 576x432 with 1 Axes>"
            ]
          },
          "metadata": {
            "tags": []
          }
        }
      ]
    },
    {
      "cell_type": "code",
      "metadata": {
        "id": "sO63E5fYsH2o",
        "colab_type": "code",
        "colab": {
          "base_uri": "https://localhost:8080/",
          "height": 34
        },
        "outputId": "fc14d4ed-9d00-4eeb-c697-de452852a7e7"
      },
      "source": [
        "#% de tweets positivos\n",
        "ptweets = df_tweets[df_tweets.Analise == 'Positivo']\n",
        "ptweets = ptweets['Tweets']\n",
        "ptweets\n",
        "\n",
        "round( (ptweets.shape[0] / df_tweets.shape[0]) * 100 , 1)"
      ],
      "execution_count": 48,
      "outputs": [
        {
          "output_type": "execute_result",
          "data": {
            "text/plain": [
              "81.8"
            ]
          },
          "metadata": {
            "tags": []
          },
          "execution_count": 48
        }
      ]
    },
    {
      "cell_type": "code",
      "metadata": {
        "id": "7KJKkRhSsQwz",
        "colab_type": "code",
        "colab": {
          "base_uri": "https://localhost:8080/",
          "height": 34
        },
        "outputId": "7451fb1b-ad1c-4a22-b0c2-65538d58f9a6"
      },
      "source": [
        "#% de tweets negativos\n",
        "ntweets = df_tweets[df_tweets.Analise == 'Negativo']\n",
        "ntweets = ntweets['Tweets']\n",
        "ntweets\n",
        "\n",
        "round( (ntweets.shape[0] / df_tweets.shape[0]) * 100, 1)"
      ],
      "execution_count": 49,
      "outputs": [
        {
          "output_type": "execute_result",
          "data": {
            "text/plain": [
              "0.0"
            ]
          },
          "metadata": {
            "tags": []
          },
          "execution_count": 49
        }
      ]
    },
    {
      "cell_type": "code",
      "metadata": {
        "id": "RgEDCYQ5sRRm",
        "colab_type": "code",
        "colab": {}
      },
      "source": [
        "df = pd.DataFrame(df_tweets['Analise'].value_counts())"
      ],
      "execution_count": 50,
      "outputs": []
    },
    {
      "cell_type": "code",
      "metadata": {
        "id": "YVBUWL1jsUxA",
        "colab_type": "code",
        "colab": {
          "base_uri": "https://localhost:8080/",
          "height": 321
        },
        "outputId": "cddb3415-3f6a-4495-a94d-7ca30c823c77"
      },
      "source": [
        "plt.figure()\n",
        "ax = sns.barplot(x=df['Analise'], y=df.index, data=df_tweets)\n",
        "ax.set_xlabel('Quantidade de tweets')\n",
        "ax.set_ylabel('Sentimento')"
      ],
      "execution_count": 51,
      "outputs": [
        {
          "output_type": "execute_result",
          "data": {
            "text/plain": [
              "Text(0, 0.5, 'Sentimento')"
            ]
          },
          "metadata": {
            "tags": []
          },
          "execution_count": 51
        },
        {
          "output_type": "display_data",
          "data": {
            "image/png": "[encoded data removed]",
            "text/plain": [
              "<Figure size 432x288 with 1 Axes>"
            ]
          },
          "metadata": {
            "tags": []
          }
        }
      ]
    },
    {
      "cell_type": "code",
      "metadata": {
        "id": "avH45vTosps5",
        "colab_type": "code",
        "colab": {
          "base_uri": "https://localhost:8080/",
          "height": 304
        },
        "outputId": "856bf771-be17-4393-cb7f-36a8bc5ed2fc"
      },
      "source": [
        "ax = sns.barplot(x=df.index, y=df['Analise'],data=df_tweets,label='Quantidade de Tweets')\n",
        "ax.set_ylabel('Quantidade de tweets')\n",
        "ax.set_xlabel('Sentimento');"
      ],
      "execution_count": 52,
      "outputs": [
        {
          "output_type": "display_data",
          "data": {
            "image/png": "[encoded data removed]",
            "text/plain": [
              "<Figure size 432x288 with 1 Axes>"
            ]
          },
          "metadata": {
            "tags": []
          }
        }
      ]
    },
    {
      "cell_type": "code",
      "metadata": {
        "id": "EhOrRtqRs5TP",
        "colab_type": "code",
        "colab": {}
      },
      "source": [
        ""
      ],
      "execution_count": null,
      "outputs": []
    }
  ]
}